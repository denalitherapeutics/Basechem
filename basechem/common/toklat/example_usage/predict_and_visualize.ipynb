{
 "cells": [
  {
   "cell_type": "code",
   "execution_count": null,
   "metadata": {},
   "outputs": [],
   "source": [
    "import pickle\n",
    "from toklat.viz_utils import visualize_interpretation\n",
    "from toklat.model import sdf_load_util"
   ]
  },
  {
   "cell_type": "code",
   "execution_count": null,
   "metadata": {},
   "outputs": [],
   "source": [
    "receptor_path = './data/2RH1_CAU.pdb'\n",
    "pose_path = './data/2RH1_CAU.sdf'\n",
    "model = pickle.load(open('../models/model_v0.pkl', 'rb'))"
   ]
  },
  {
   "cell_type": "code",
   "execution_count": null,
   "metadata": {},
   "outputs": [],
   "source": [
    "print(\n",
    "    \"Model version string is saved with the model pickle:\", model.version,\n",
    ")"
   ]
  },
  {
   "cell_type": "code",
   "execution_count": null,
   "metadata": {},
   "outputs": [],
   "source": [
    "model.update_receptor(\n",
    "    receptor_path\n",
    ")"
   ]
  },
  {
   "cell_type": "code",
   "execution_count": null,
   "metadata": {},
   "outputs": [],
   "source": [
    "out_path = model.predict_and_interpret_sdf(\n",
    "    pose_path,\n",
    "    './data/2RH1_CAU_scored.sdf',\n",
    "    sort_by_score=True\n",
    ")\n",
    "# load the resulting sdf and parse the interactions json\n",
    "out = sdf_load_util(out_path)"
   ]
  },
  {
   "cell_type": "code",
   "execution_count": null,
   "metadata": {},
   "outputs": [],
   "source": [
    "# best scoring pose\n",
    "visualize_interpretation(\n",
    "    out.iloc[0]['ROMol'],\n",
    "    receptor_path,\n",
    "    out.iloc[0]['toklat_top_interactions'],\n",
    "    out.iloc[0]['toklat_unsatisfied_ligand_atoms'],\n",
    "    out.iloc[0]['toklat_unsatisfied_protein_atoms'],\n",
    ")"
   ]
  },
  {
   "cell_type": "code",
   "execution_count": null,
   "metadata": {},
   "outputs": [],
   "source": [
    "# WORST scoring pose for comparison\n",
    "visualize_interpretation(\n",
    "    out.iloc[-1]['ROMol'],\n",
    "    receptor_path,\n",
    "    out.iloc[-1]['toklat_top_interactions'],\n",
    "    out.iloc[-1]['toklat_unsatisfied_ligand_atoms'],\n",
    "    out.iloc[-1]['toklat_unsatisfied_protein_atoms'],\n",
    ")"
   ]
  },
  {
   "cell_type": "code",
   "execution_count": null,
   "metadata": {},
   "outputs": [],
   "source": [
    "# example of error reporting\n",
    "out_path = model.predict_and_interpret_sdf(\n",
    "    './data/2RH1_CAU_with_h_error.sdf',\n",
    "    './data/2RH1_CAU_scored_with_failures.sdf',\n",
    ")\n",
    "# error poses will have a score of 999 and a provided\n",
    "# error message in the \"error\" column\n",
    "out = sdf_load_util(out_path)"
   ]
  }
 ],
 "metadata": {
  "kernelspec": {
   "display_name": "venv_toklat",
   "language": "python",
   "name": "python3"
  },
  "language_info": {
   "codemirror_mode": {
    "name": "ipython",
    "version": 3
   },
   "file_extension": ".py",
   "mimetype": "text/x-python",
   "name": "python",
   "nbconvert_exporter": "python",
   "pygments_lexer": "ipython3",
   "version": "3.10.12"
  }
 },
 "nbformat": 4,
 "nbformat_minor": 2
}
